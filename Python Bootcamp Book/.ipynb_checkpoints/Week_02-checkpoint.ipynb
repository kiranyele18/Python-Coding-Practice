{
 "cells": [
  {
   "cell_type": "markdown",
   "metadata": {},
   "source": [
    "# Comments & Basic Data Types"
   ]
  },
  {
   "cell_type": "code",
   "execution_count": 1,
   "metadata": {},
   "outputs": [
    {
     "name": "stdout",
     "output_type": "stream",
     "text": [
      "Hello World!!!\n"
     ]
    },
    {
     "data": {
      "text/plain": [
       "'\\n# is used for commenting in python programming.\\nMostly # is use for developer to understand what that line means or what is the meaning of syntax.\\n\\n'"
      ]
     },
     "execution_count": 1,
     "metadata": {},
     "output_type": "execute_result"
    }
   ],
   "source": [
    "print('Hello World!!!') #this is a comment\n",
    "\n",
    "\"\"\"\n",
    "# is used for commenting in python programming.\n",
    "Mostly # is use for developer to understand what that line means or what is the meaning of syntax.\n",
    "\n",
    "\"\"\""
   ]
  },
  {
   "cell_type": "markdown",
   "metadata": {},
   "source": [
    "### Data Types:\n",
    "\n"
   ]
  },
  {
   "cell_type": "markdown",
   "metadata": {},
   "source": [
    "1) Integer\n",
    "2) Float\n",
    "3) Boolean\n",
    "4) String\n"
   ]
  },
  {
   "cell_type": "code",
   "execution_count": 2,
   "metadata": {},
   "outputs": [
    {
     "name": "stdout",
     "output_type": "stream",
     "text": [
      "2\n",
      "10\n"
     ]
    }
   ],
   "source": [
    "# Integer:\n",
    "#Following all are integer numbers\n",
    "print(2)\n",
    "print(10)\n"
   ]
  },
  {
   "cell_type": "code",
   "execution_count": 3,
   "metadata": {},
   "outputs": [
    {
     "name": "stdout",
     "output_type": "stream",
     "text": [
      "1.12\n",
      "12586.56\n",
      "8.0\n"
     ]
    }
   ],
   "source": [
    "#Float :\n",
    "# follwing all are floating numbers\n",
    "\n",
    "print(1.12)\n",
    "print(12586.56)\n",
    "print(8.0) # even this number is a float #The number “8.0” is considered a float, because it includes a decimal point."
   ]
  },
  {
   "cell_type": "code",
   "execution_count": 4,
   "metadata": {},
   "outputs": [
    {
     "name": "stdout",
     "output_type": "stream",
     "text": [
      "True\n",
      "False\n"
     ]
    }
   ],
   "source": [
    "#Booleans:\n",
    "# The boolean data type is either a True or False value.\n",
    "# the following are booleans\n",
    "\n",
    "print(True)\n",
    "print(False)\n"
   ]
  },
  {
   "cell_type": "code",
   "execution_count": 5,
   "metadata": {},
   "outputs": [
    {
     "name": "stdout",
     "output_type": "stream",
     "text": [
      "\n",
      "There's a snake in my boot!\n",
      "True\n"
     ]
    }
   ],
   "source": [
    "#Strings:\n",
    " # Strings in Python are arrays of bytes respresenting unicode characters.\n",
    "    # Strings are nothing more than a set of characters,symbols,numbers,whitespace and even empty space between two sets of quotation marks\n",
    "\n",
    "#following are Strings\n",
    "print(\"\")\n",
    "print(\"There's a snake in my boot!\")\n",
    "print('True')\n",
    "    "
   ]
  },
  {
   "cell_type": "code",
   "execution_count": 6,
   "metadata": {},
   "outputs": [
    {
     "data": {
      "text/plain": [
       "int"
      ]
     },
     "execution_count": 6,
     "metadata": {},
     "output_type": "execute_result"
    }
   ],
   "source": [
    "type(12)"
   ]
  },
  {
   "cell_type": "code",
   "execution_count": 7,
   "metadata": {},
   "outputs": [
    {
     "data": {
      "text/plain": [
       "str"
      ]
     },
     "execution_count": 7,
     "metadata": {},
     "output_type": "execute_result"
    }
   ],
   "source": [
    "type('Heelo')"
   ]
  },
  {
   "cell_type": "code",
   "execution_count": 8,
   "metadata": {},
   "outputs": [
    {
     "data": {
      "text/plain": [
       "float"
      ]
     },
     "execution_count": 8,
     "metadata": {},
     "output_type": "execute_result"
    }
   ],
   "source": [
    "type(3.56)"
   ]
  },
  {
   "cell_type": "code",
   "execution_count": 9,
   "metadata": {},
   "outputs": [],
   "source": [
    "string1 = \"My name is Kiran Ravindra Yele\""
   ]
  },
  {
   "cell_type": "code",
   "execution_count": 10,
   "metadata": {},
   "outputs": [
    {
     "name": "stdout",
     "output_type": "stream",
     "text": [
      "My name is Kiran Ravindra Yele\n"
     ]
    },
    {
     "data": {
      "text/plain": [
       "str"
      ]
     },
     "execution_count": 10,
     "metadata": {},
     "output_type": "execute_result"
    }
   ],
   "source": [
    "print(string1)\n",
    "type(string1)"
   ]
  },
  {
   "cell_type": "code",
   "execution_count": 11,
   "metadata": {},
   "outputs": [],
   "source": [
    "#Variables :\n",
    " #Python automatically handles memory storage and garbage collection for us.\n",
    "first_name = 'Kiran'"
   ]
  },
  {
   "cell_type": "code",
   "execution_count": 12,
   "metadata": {},
   "outputs": [
    {
     "name": "stdout",
     "output_type": "stream",
     "text": [
      "5 8.4\n"
     ]
    }
   ],
   "source": [
    "# Integers and Float variables:\n",
    "\n",
    "num1 = 5 # storing integer into a variable\n",
    "num2 = 8.4 # storing flaot into a variable\n",
    "print(num1,num2) # you can print multiple items using commas"
   ]
  },
  {
   "cell_type": "code",
   "execution_count": 13,
   "metadata": {},
   "outputs": [
    {
     "name": "stdout",
     "output_type": "stream",
     "text": [
      "True\n"
     ]
    }
   ],
   "source": [
    "#Storing a boolean into variable\n",
    "switch = True \n",
    "print(switch)"
   ]
  },
  {
   "cell_type": "code",
   "execution_count": 14,
   "metadata": {},
   "outputs": [
    {
     "name": "stdout",
     "output_type": "stream",
     "text": [
      "Kiran Yele 7\n"
     ]
    }
   ],
   "source": [
    "# String Variables:\n",
    "\n",
    "name = 'Kiran Yele'\n",
    "fav_num = '7'\n",
    "print(name,fav_num)"
   ]
  },
  {
   "cell_type": "code",
   "execution_count": 15,
   "metadata": {},
   "outputs": [
    {
     "name": "stdout",
     "output_type": "stream",
     "text": [
      "13.4\n"
     ]
    }
   ],
   "source": [
    "# using two variables to create another variable\n",
    "\n",
    "result = num1 + num2\n",
    "print(result)"
   ]
  },
  {
   "cell_type": "code",
   "execution_count": 16,
   "metadata": {},
   "outputs": [
    {
     "name": "stdout",
     "output_type": "stream",
     "text": [
      "14.4\n",
      "72.0\n"
     ]
    }
   ],
   "source": [
    "#adding ,deleting,multiplying,dividing from a varible \n",
    "\n",
    "result += 1    # same as saying result = result + 1\n",
    "print(result)\n",
    "result *= num1  ## same as saying result = result * 1\n",
    "print(result)"
   ]
  },
  {
   "cell_type": "code",
   "execution_count": 17,
   "metadata": {},
   "outputs": [
    {
     "name": "stdout",
     "output_type": "stream",
     "text": [
      "John\n",
      "Kiran\n"
     ]
    }
   ],
   "source": [
    "# Overwriting Previously Created Variables\n",
    "\n",
    "# defining a variable  and overwriting it's value\n",
    "name = 'John'\n",
    "print(name)\n",
    "name = 'Kiran'\n",
    "print(name)"
   ]
  },
  {
   "cell_type": "code",
   "execution_count": 18,
   "metadata": {},
   "outputs": [
    {
     "name": "stdout",
     "output_type": "stream",
     "text": [
      "30\n"
     ]
    }
   ],
   "source": [
    "#Exercise\n",
    "\n",
    "x = 3\n",
    "y = 10\n",
    "result  = x * y\n",
    "print(result)"
   ]
  },
  {
   "cell_type": "code",
   "execution_count": 19,
   "metadata": {},
   "outputs": [
    {
     "name": "stdout",
     "output_type": "stream",
     "text": [
      "3354.0764\n"
     ]
    }
   ],
   "source": [
    "height =  245.54\n",
    "width = 13.66\n",
    "result = height * width\n",
    "print(result)"
   ]
  },
  {
   "cell_type": "markdown",
   "metadata": {},
   "source": [
    "# Working with Strings:"
   ]
  },
  {
   "cell_type": "code",
   "execution_count": 20,
   "metadata": {},
   "outputs": [
    {
     "name": "stdout",
     "output_type": "stream",
     "text": [
      "Kiran Yele\n"
     ]
    }
   ],
   "source": [
    "# String Concatenation\n",
    "\n",
    "# Using the Addition operator without variables\n",
    "\n",
    "name = \"Kiran\" + \" \" +\"Yele\"\n",
    "print(name)"
   ]
  },
  {
   "cell_type": "code",
   "execution_count": 21,
   "metadata": {},
   "outputs": [
    {
     "name": "stdout",
     "output_type": "stream",
     "text": [
      "Kiran Yele\n"
     ]
    }
   ],
   "source": [
    "#Using the operator with variable\n",
    "first_name = \"Kiran\"\n",
    "last_name = \"Yele\"\n",
    "full_name =first_name +\" \"+last_name\n",
    "print(full_name)"
   ]
  },
  {
   "cell_type": "code",
   "execution_count": 26,
   "metadata": {},
   "outputs": [
    {
     "name": "stdout",
     "output_type": "stream",
     "text": [
      "Hello John\n",
      "Hello John, you are 28 years old!\n"
     ]
    }
   ],
   "source": [
    "# .format() method\n",
    "\n",
    "# injecting variables using the format method\n",
    "name1 = \"John\"\n",
    "print(\"Hello {}\".format(name1))\n",
    "print(\"Hello {}, you are {} years old!\".format(name1, 28))\n",
    "\n"
   ]
  },
  {
   "cell_type": "markdown",
   "metadata": {},
   "source": [
    "#### f String"
   ]
  },
  {
   "cell_type": "code",
   "execution_count": 4,
   "metadata": {},
   "outputs": [
    {
     "name": "stdout",
     "output_type": "stream",
     "text": [
      "Hello Kiran\n"
     ]
    }
   ],
   "source": [
    "#By putting the letter “f” in front of a string, you’re able to inject a variable into a string directly in line.\n",
    " # using new f string\n",
    "name = 'Kiran'\n",
    "print(f\"Hello {name}\")"
   ]
  },
  {
   "cell_type": "code",
   "execution_count": 6,
   "metadata": {},
   "outputs": [
    {
     "name": "stdout",
     "output_type": "stream",
     "text": [
      "Hello, John\n"
     ]
    }
   ],
   "source": [
    "\"\"\"Formatting in Python 2\n",
    "Python 2 doesn’t include the .format() method; instead you would use percent \n",
    "operators to mark the location of the variable being injected. The following is an \n",
    "example to inject the variable “name” into the location of “%s”. The letter after the \n",
    "percent operator signifies the data type. For integers, you would use “%d” for digit. \n",
    "After the string closes, you would place a percent operator, followed by the variables \n",
    "you would like to use. Let’s look at an example:\"\"\"\n",
    "# one major difference between versions 2 & 3\n",
    "name = 'John'\n",
    "print('Hello, %s' % name)"
   ]
  },
  {
   "cell_type": "code",
   "execution_count": 7,
   "metadata": {},
   "outputs": [
    {
     "name": "stdout",
     "output_type": "stream",
     "text": [
      "My name is Kiran Yele\n"
     ]
    }
   ],
   "source": [
    "#python2 multiple variable formatting\n",
    "\n",
    "first_name = 'Kiran'\n",
    "last_name = 'Yele'\n",
    "print(\"My name is %s %s\" %(first_name, last_name)) # surround the variables in parenthesis"
   ]
  },
  {
   "cell_type": "markdown",
   "metadata": {},
   "source": [
    "#String Index\n",
    "#An index is essentially a location in memory.\n",
    "\n",
    "### Note Indexing in most languages, including Python, starts at 0 not 1."
   ]
  }
 ],
 "metadata": {
  "kernelspec": {
   "display_name": "Python 3",
   "language": "python",
   "name": "python3"
  },
  "language_info": {
   "codemirror_mode": {
    "name": "ipython",
    "version": 3
   },
   "file_extension": ".py",
   "mimetype": "text/x-python",
   "name": "python",
   "nbconvert_exporter": "python",
   "pygments_lexer": "ipython3",
   "version": "3.7.4"
  }
 },
 "nbformat": 4,
 "nbformat_minor": 2
}
