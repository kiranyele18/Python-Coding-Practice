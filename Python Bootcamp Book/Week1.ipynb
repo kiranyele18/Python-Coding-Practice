{
 "cells": [
  {
   "cell_type": "markdown",
   "metadata": {},
   "source": [
    "Python is an <b> interpreted, high-level, general-purpose </b> programming language."
   ]
  },
  {
   "cell_type": "raw",
   "metadata": {},
   "source": [
    "Low-level languages (like C, C++) require \n",
    "you to allocate and manage memory, whereas Python manages \n",
    "memory for us."
   ]
  },
  {
   "cell_type": "markdown",
   "metadata": {},
   "source": []
  },
  {
   "cell_type": "code",
   "execution_count": 9,
   "metadata": {},
   "outputs": [],
   "source": [
    "#guessing game\n",
    "def numberguessing():\n",
    "    from random import randint\n",
    "    from IPython.display import clear_output\n",
    "    guessed = False\n",
    "    number = randint(0,100)\n",
    "    guesses = 0\n",
    "    while not guessed:\n",
    "        ans = input(\"Try to guess the number I am thinking of !\")\n",
    "        guessed+=1\n",
    "        clear_output()\n",
    "        if int(ans) == number:\n",
    "            print(\"Congrats ! You guessed Correctly.\")\n",
    "            print(\"It took you { } guesses!\".format(guesses))\n",
    "            break\n",
    "        elif int(ans) > number:\n",
    "            print(\"The number is lower than what you guessed.\")\n",
    "        elif int(ans) < number:\n",
    "            print(\"The number is greater than what you guessed.\")\n",
    "\n",
    "    choice = input('Do you want to play ? Y or N: ')\n",
    "    if choice =='Y' or choice == 'y':\n",
    "        numberguessing()\n",
    "    else:\n",
    "        print(\"Thank you!!!\")"
   ]
  },
  {
   "cell_type": "code",
   "execution_count": null,
   "metadata": {},
   "outputs": [
    {
     "name": "stdout",
     "output_type": "stream",
     "text": [
      "The number is greater than what you guessed.\n"
     ]
    }
   ],
   "source": [
    "numberguessing()"
   ]
  },
  {
   "cell_type": "code",
   "execution_count": null,
   "metadata": {},
   "outputs": [],
   "source": []
  }
 ],
 "metadata": {
  "kernelspec": {
   "display_name": "Python 3",
   "language": "python",
   "name": "python3"
  },
  "language_info": {
   "codemirror_mode": {
    "name": "ipython",
    "version": 3
   },
   "file_extension": ".py",
   "mimetype": "text/x-python",
   "name": "python",
   "nbconvert_exporter": "python",
   "pygments_lexer": "ipython3",
   "version": "3.7.4"
  }
 },
 "nbformat": 4,
 "nbformat_minor": 2
}
