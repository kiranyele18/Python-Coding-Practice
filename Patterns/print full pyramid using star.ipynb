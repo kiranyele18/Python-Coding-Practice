{
 "cells": [
  {
   "cell_type": "markdown",
   "metadata": {},
   "source": [
    "### print full pyramid using *"
   ]
  },
  {
   "cell_type": "code",
   "execution_count": 1,
   "metadata": {},
   "outputs": [
    {
     "name": "stdout",
     "output_type": "stream",
     "text": [
      "Enter the number: 5\n",
      "    *\n",
      "   ***\n",
      "  *****\n",
      " *******\n",
      "*********\n"
     ]
    }
   ],
   "source": [
    "rows = int(input(\"Enter the number: \"))\n",
    "\n",
    "k = 0\n",
    "for i in range(1,rows+1):\n",
    "    for space in range(1,(rows-i)+1):\n",
    "        print(end = \" \")\n",
    "        \n",
    "    while k!=(2*i-1):\n",
    "        print(\"*\",end = \"\")\n",
    "        k +=1\n",
    "        \n",
    "    k = 0 \n",
    "    print()\n"
   ]
  },
  {
   "cell_type": "code",
   "execution_count": 2,
   "metadata": {},
   "outputs": [
    {
     "name": "stdout",
     "output_type": "stream",
     "text": [
      "[[[1, 1, 1], [1, 1, 1], [1, 1, 1]], [[1, 1, 1], [1, 1, 1], [1, 1, 1]], [[1, 1, 1], [1, 1, 1], [1, 1, 1]]]\n"
     ]
    }
   ],
   "source": [
    "\n",
    "T = 1\n",
    "array = [[ [T for col in range(3)] for col in range(3)] for row in range(3)]\n",
    "print(array)\n",
    "\n",
    "\n"
   ]
  },
  {
   "cell_type": "code",
   "execution_count": null,
   "metadata": {},
   "outputs": [],
   "source": [
    "\n",
    "    "
   ]
  },
  {
   "cell_type": "code",
   "execution_count": 3,
   "metadata": {},
   "outputs": [
    {
     "name": "stdout",
     "output_type": "stream",
     "text": [
      "2\n",
      "20\n",
      "[[[0, 0, 0], [0, 0, 0], [0, 0, 0]], [[0, 0, 0], [0, 0, 0], [0, 0, 0]], [[0, 0, 0], [0, 0, 0], [0, 0, 0]]]\n",
      "[[[0, 0, 0, 1, 1, 1], [0, 0, 0, 1, 1, 1], [0, 0, 0, 1, 1, 1], [], [], []], [[0, 0, 0, 1, 1, 1], [0, 0, 0, 1, 1, 1], [0, 0, 0, 1, 1, 1], [], [], []], [[0, 0, 0, 1, 1, 1], [0, 0, 0, 1, 1, 1], [0, 0, 0, 1, 1, 1], [], [], []], [], [], []]\n",
      "2\n",
      "[[[0, 0, 0], [0, 0, 0], [0, 0, 0]], [[0, 0, 0], [0, 0, 0], [0, 0, 0]], [[0, 0, 0], [0, 0, 0], [0, 0, 0]]]\n",
      "[[[0, 0, 0, 1, 1, 1], [0, 0, 0, 1, 1, 1], [0, 0, 0, 1, 1, 1], [], [], []], [[0, 0, 0, 1, 1, 1], [0, 0, 0, 1, 1, 1], [0, 0, 0, 1, 1, 1], [], [], []], [[0, 0, 0, 1, 1, 1], [0, 0, 0, 1, 1, 1], [0, 0, 0, 1, 1, 1], [], [], []], [], [], []]\n"
     ]
    }
   ],
   "source": [
    "\n",
    "\n",
    "#create 3D list\n",
    "def solve(S):\n",
    "    x = 3\n",
    "\n",
    "    #set dimensions\n",
    "\n",
    "    y = 3\n",
    "\n",
    "    z = 3\n",
    "\n",
    "\n",
    "    a_3d_list = []\n",
    "    \n",
    "    for m in range(0,T):\n",
    "\n",
    "        for i in range(x):\n",
    "\n",
    "            a_3d_list.append([] )#add `x` empty lists to the 3D list\n",
    "\n",
    "\n",
    "\n",
    "            for j in range(y):\n",
    "\n",
    "                a_3d_list[i].append([])\n",
    "\n",
    "        #add `y` empty lists to each of the `x` lists\n",
    "\n",
    "                for k in range(z):\n",
    "\n",
    "                    a_3d_list[i][j].append()\n",
    "\n",
    "        #add initial value of `0` to the innermost list\n",
    "        m=m+1\n",
    "\n",
    "        print(a_3d_list)\n",
    "T = int(input())\n",
    "for _ in range(T):\n",
    "    S = int(input())\n",
    "    \n",
    "    out_ = solve(S)\n",
    "    #print(out_)\n",
    "    "
   ]
  },
  {
   "cell_type": "code",
   "execution_count": 27,
   "metadata": {},
   "outputs": [
    {
     "name": "stdout",
     "output_type": "stream",
     "text": [
      "24\n"
     ]
    }
   ],
   "source": [
    "array = []\n",
    "m =1\n",
    "\n",
    "for i in range(3):\n",
    "    array.append([])\n",
    "    \n",
    "    for j in range(3):\n",
    "        array[i].append([])\n",
    "        for k in range(3):\n",
    "            array[i][j].append([m])\n",
    "    \n",
    "    arr1 = array\n",
    "    calc = i*k*(i+j+k)\n",
    "sum =0\n",
    "sum = sum + calc\n",
    "print(sum)"
   ]
  },
  {
   "cell_type": "code",
   "execution_count": null,
   "metadata": {},
   "outputs": [],
   "source": []
  },
  {
   "cell_type": "code",
   "execution_count": null,
   "metadata": {},
   "outputs": [],
   "source": []
  },
  {
   "cell_type": "code",
   "execution_count": null,
   "metadata": {},
   "outputs": [],
   "source": []
  }
 ],
 "metadata": {
  "kernelspec": {
   "display_name": "Python 3",
   "language": "python",
   "name": "python3"
  },
  "language_info": {
   "codemirror_mode": {
    "name": "ipython",
    "version": 3
   },
   "file_extension": ".py",
   "mimetype": "text/x-python",
   "name": "python",
   "nbconvert_exporter": "python",
   "pygments_lexer": "ipython3",
   "version": "3.7.4"
  }
 },
 "nbformat": 4,
 "nbformat_minor": 2
}
