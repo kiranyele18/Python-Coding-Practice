{
 "cells": [
  {
   "cell_type": "markdown",
   "metadata": {},
   "source": [
    "# countOddEvenDifference"
   ]
  },
  {
   "cell_type": "markdown",
   "metadata": {},
   "source": [
    "\n",
    "Write a program to return the difference between the count of odd numbers and even numbers.\n",
    "\n",
    "Note : You are expected to write code in the countOddEvenDifference function only which will receive the first parameter as the number of items in the array and second parameter as the array itself. you are not required to take input from the console.\n",
    "\n",
    "Example\n",
    "Finding the difference between the count of odd and even numbers from a list of 5  number\n",
    "\n",
    "Input\n",
    "input 1 : 8\n",
    "input 2 : 10 20 30 40 55 66 77 83\n",
    "\n",
    "Output\n",
    "-2\n",
    "\n",
    "Explanation\n",
    "The first paramter (8) is the szie of the array. Next is an array of integers. The calculation of difference between count sum of odd and even numbers is as follows:\n",
    "\n",
    "3 (count of odd numbers) – 5 (count of even numbers) = -2\n"
   ]
  },
  {
   "cell_type": "code",
   "execution_count": 7,
   "metadata": {},
   "outputs": [
    {
     "name": "stdout",
     "output_type": "stream",
     "text": [
      "Enter Number: 8\n",
      "10 20 30 40 55 66 77 83\n",
      "-2\n"
     ]
    }
   ],
   "source": [
    "def countOddEvenDifference(n,array):\n",
    "    \n",
    "    total = 0\n",
    "    for i in array:\n",
    "        if i%2 == 0:\n",
    "            total = total - 1\n",
    "        else:\n",
    "            total = total + 1\n",
    "    return total\n",
    "\n",
    "n = int(input(\"Enter Number: \"))\n",
    "array = list(map(int,input().split()))\n",
    "print(countOddEvenDifference(n,array))\n",
    "    "
   ]
  },
  {
   "cell_type": "code",
   "execution_count": 10,
   "metadata": {},
   "outputs": [
    {
     "name": "stdout",
     "output_type": "stream",
     "text": [
      "Enter Size of Array: 8\n",
      "10 20 30 40 55 66 77 83\n",
      "-2\n"
     ]
    }
   ],
   "source": [
    "def countOddEvenDifference(n,array):\n",
    "    total = 0\n",
    "    evenTotal = 0\n",
    "    oddTotal = 0\n",
    "    for i in array:\n",
    "        if i % 2 == 0 :\n",
    "            evenTotal = evenTotal + 1\n",
    "        else:\n",
    "            oddTotal = oddTotal + 1\n",
    "            \n",
    "    Total = oddTotal - evenTotal\n",
    "    return Total\n",
    "    \n",
    "    \n",
    "n = int(input(\"Enter Size of Array: \"))\n",
    "array = list(map(int,input().split()))\n",
    "print(countOddEvenDifference(n,array))\n",
    "    "
   ]
  },
  {
   "cell_type": "code",
   "execution_count": null,
   "metadata": {},
   "outputs": [],
   "source": []
  }
 ],
 "metadata": {
  "kernelspec": {
   "display_name": "Python 3",
   "language": "python",
   "name": "python3"
  },
  "language_info": {
   "codemirror_mode": {
    "name": "ipython",
    "version": 3
   },
   "file_extension": ".py",
   "mimetype": "text/x-python",
   "name": "python",
   "nbconvert_exporter": "python",
   "pygments_lexer": "ipython3",
   "version": "3.7.4"
  }
 },
 "nbformat": 4,
 "nbformat_minor": 2
}
