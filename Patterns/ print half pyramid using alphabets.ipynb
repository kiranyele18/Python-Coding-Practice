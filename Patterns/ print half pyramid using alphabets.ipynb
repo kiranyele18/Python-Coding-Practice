{
 "cells": [
  {
   "cell_type": "markdown",
   "metadata": {},
   "source": [
    "## Program to print half pyramid using alphabets"
   ]
  },
  {
   "cell_type": "code",
   "execution_count": 7,
   "metadata": {},
   "outputs": [
    {
     "name": "stdout",
     "output_type": "stream",
     "text": [
      "Enter number: 5\n",
      "A \n",
      "B B \n",
      "C C C \n",
      "D D D D \n",
      "E E E E E \n"
     ]
    }
   ],
   "source": [
    "rows = int(input(\"Enter number: \"))\n",
    "\n",
    "ascii_value = 65\n",
    "\n",
    "for i in range(rows):\n",
    "    for j in range(i+1):\n",
    "        alphabet = chr(ascii_value)\n",
    "        print(alphabet,end = \" \")\n",
    "    \n",
    "    ascii_value += 1\n",
    "    print()"
   ]
  },
  {
   "cell_type": "code",
   "execution_count": null,
   "metadata": {},
   "outputs": [],
   "source": []
  },
  {
   "cell_type": "code",
   "execution_count": null,
   "metadata": {},
   "outputs": [],
   "source": []
  },
  {
   "cell_type": "code",
   "execution_count": null,
   "metadata": {},
   "outputs": [],
   "source": []
  },
  {
   "cell_type": "code",
   "execution_count": null,
   "metadata": {},
   "outputs": [],
   "source": []
  },
  {
   "cell_type": "code",
   "execution_count": null,
   "metadata": {},
   "outputs": [],
   "source": []
  },
  {
   "cell_type": "code",
   "execution_count": null,
   "metadata": {},
   "outputs": [],
   "source": []
  },
  {
   "cell_type": "code",
   "execution_count": null,
   "metadata": {},
   "outputs": [],
   "source": []
  },
  {
   "cell_type": "code",
   "execution_count": null,
   "metadata": {},
   "outputs": [],
   "source": []
  },
  {
   "cell_type": "code",
   "execution_count": null,
   "metadata": {},
   "outputs": [],
   "source": []
  },
  {
   "cell_type": "code",
   "execution_count": null,
   "metadata": {},
   "outputs": [],
   "source": []
  },
  {
   "cell_type": "code",
   "execution_count": 11,
   "metadata": {},
   "outputs": [
    {
     "name": "stdout",
     "output_type": "stream",
     "text": [
      "Enter the number : 5\n",
      "A \n",
      "A A \n",
      "A A A \n",
      "A A A A \n",
      "A A A A A \n"
     ]
    }
   ],
   "source": [
    "rows = int(input(\"Enter the number : \"))\n",
    "ascii_value = 65\n",
    "for i in range(rows):\n",
    "    for j in range(i+1):\n",
    "        alphabet = chr(ascii_value)\n",
    "        print(alphabet,end = \" \")\n",
    "        \n",
    "    print()"
   ]
  },
  {
   "cell_type": "code",
   "execution_count": 14,
   "metadata": {},
   "outputs": [
    {
     "name": "stdout",
     "output_type": "stream",
     "text": [
      "Enter the number : 5\n",
      "B \n",
      "B B \n",
      "B B B \n",
      "B B B B \n",
      "B B B B B \n"
     ]
    }
   ],
   "source": [
    "rows = int(input(\"Enter the number : \"))\n",
    "ascii_value = 65\n",
    "for i in range(rows):\n",
    "    for j in range(i+1):\n",
    "        alphabet = chr(ascii_value+1) \n",
    "        print(alphabet,end = \" \")\n",
    "        \n",
    "    print()"
   ]
  },
  {
   "cell_type": "code",
   "execution_count": null,
   "metadata": {},
   "outputs": [],
   "source": []
  }
 ],
 "metadata": {
  "kernelspec": {
   "display_name": "Python 3",
   "language": "python",
   "name": "python3"
  },
  "language_info": {
   "codemirror_mode": {
    "name": "ipython",
    "version": 3
   },
   "file_extension": ".py",
   "mimetype": "text/x-python",
   "name": "python",
   "nbconvert_exporter": "python",
   "pygments_lexer": "ipython3",
   "version": "3.7.4"
  }
 },
 "nbformat": 4,
 "nbformat_minor": 2
}
