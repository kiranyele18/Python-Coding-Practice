{
 "cells": [
  {
   "cell_type": "code",
   "execution_count": null,
   "metadata": {},
   "outputs": [],
   "source": []
  },
  {
   "cell_type": "code",
   "execution_count": null,
   "metadata": {},
   "outputs": [],
   "source": []
  },
  {
   "cell_type": "code",
   "execution_count": null,
   "metadata": {},
   "outputs": [],
   "source": []
  },
  {
   "cell_type": "code",
   "execution_count": 3,
   "metadata": {},
   "outputs": [
    {
     "name": "stdout",
     "output_type": "stream",
     "text": [
      "Enter size of array: 7\n",
      "11 22 12 24 13 26 14\n",
      "Enter Position: 5\n",
      "25\n"
     ]
    }
   ],
   "source": [
    "def findTotalSum(n,array,position):\n",
    "    total = 0\n",
    "    for i in range(position-1,n-1):\n",
    "        total += abs(array[i]-array[i+1])\n",
    "    return total\n",
    "    \n",
    "n = int(input(\"Enter size of array: \"))\n",
    "array = list(map(int,input().split()))\n",
    "position = int(input(\"Enter Position: \"))\n",
    "print(findTotalSum(n,array,position))"
   ]
  },
  {
   "cell_type": "code",
   "execution_count": null,
   "metadata": {},
   "outputs": [],
   "source": []
  }
 ],
 "metadata": {
  "kernelspec": {
   "display_name": "Python 3",
   "language": "python",
   "name": "python3"
  },
  "language_info": {
   "codemirror_mode": {
    "name": "ipython",
    "version": 3
   },
   "file_extension": ".py",
   "mimetype": "text/x-python",
   "name": "python",
   "nbconvert_exporter": "python",
   "pygments_lexer": "ipython3",
   "version": "3.7.4"
  }
 },
 "nbformat": 4,
 "nbformat_minor": 2
}
