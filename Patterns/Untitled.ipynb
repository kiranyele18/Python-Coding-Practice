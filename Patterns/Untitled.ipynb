{
 "cells": [
  {
   "cell_type": "code",
   "execution_count": 1,
   "metadata": {},
   "outputs": [],
   "source": [
    "# Summing up the thing is easy.Can you Solve this.\n",
    "# You have to write a program to calculate and return the sum of distances between \n",
    "# the numbers in the given array of positive numbers"
   ]
  },
  {
   "cell_type": "code",
   "execution_count": 2,
   "metadata": {},
   "outputs": [],
   "source": [
    "#Example\n",
    "#input:\n",
    "# 5\n",
    "# 10 11 7 12 14"
   ]
  },
  {
   "cell_type": "code",
   "execution_count": 11,
   "metadata": {},
   "outputs": [
    {
     "ename": "SyntaxError",
     "evalue": "invalid syntax (<ipython-input-11-4854ce0c9197>, line 11)",
     "output_type": "error",
     "traceback": [
      "\u001b[1;36m  File \u001b[1;32m\"<ipython-input-11-4854ce0c9197>\"\u001b[1;36m, line \u001b[1;32m11\u001b[0m\n\u001b[1;33m    print(a)\u001b[0m\n\u001b[1;37m        ^\u001b[0m\n\u001b[1;31mSyntaxError\u001b[0m\u001b[1;31m:\u001b[0m invalid syntax\n"
     ]
    }
   ],
   "source": [
    "from array import *\n",
    "\n",
    "a = array('i',[ ])\n",
    "\n",
    "n = int(input(\"Enter the size of array: \"))\n",
    "\n",
    "for i in range(0,n):\n",
    "    \n",
    "    a.append(int(input(\"Enter Number: \"))\n",
    "\n",
    "print(a)\n"
   ]
  },
  {
   "cell_type": "code",
   "execution_count": null,
   "metadata": {},
   "outputs": [],
   "source": [
    "from array import *\n",
    "\n",
    "a=array('i',[ ])\n",
    "\n",
    "n=int(input(\"range\"))\n",
    "\n",
    "for i in range(0,n):\n",
    "\n",
    "    a.append(int(input(\"value\")))\n",
    "\n",
    "print(a)\n",
    "\n",
    "sum=0\n",
    "\n",
    "for j in range(len(a)-1):\n",
    "\n",
    "    diff=a[j+1]-a[j]\n",
    "\n",
    "    if diff<0:\n",
    "\n",
    "        diff=(diff*(-1))\n",
    "\n",
    "\n",
    "\n",
    "    sum=sum+diff\n",
    "\n",
    "print(sum)"
   ]
  },
  {
   "cell_type": "code",
   "execution_count": null,
   "metadata": {},
   "outputs": [],
   "source": []
  }
 ],
 "metadata": {
  "kernelspec": {
   "display_name": "Python 3",
   "language": "python",
   "name": "python3"
  },
  "language_info": {
   "codemirror_mode": {
    "name": "ipython",
    "version": 3
   },
   "file_extension": ".py",
   "mimetype": "text/x-python",
   "name": "python",
   "nbconvert_exporter": "python",
   "pygments_lexer": "ipython3",
   "version": "3.7.4"
  }
 },
 "nbformat": 4,
 "nbformat_minor": 2
}
