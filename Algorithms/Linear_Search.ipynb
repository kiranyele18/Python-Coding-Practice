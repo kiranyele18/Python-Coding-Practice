{
 "cells": [
  {
   "cell_type": "markdown",
   "metadata": {},
   "source": [
    "# Linear Search"
   ]
  },
  {
   "cell_type": "code",
   "execution_count": 1,
   "metadata": {},
   "outputs": [
    {
     "data": {
      "text/plain": [
       "3"
      ]
     },
     "execution_count": 1,
     "metadata": {},
     "output_type": "execute_result"
    }
   ],
   "source": [
    "def linear_search(arr,n,x):\n",
    "    \n",
    "    for i in range(0,n):\n",
    "        if(arr[i]==x):\n",
    "            return i\n",
    "    return -1\n",
    "\n",
    "arr = [10,20,30,40,50,60]\n",
    "x = 40\n",
    "n = len(arr)\n",
    "\n",
    "#result = \n",
    "linear_search(arr,n,x)\n",
    "\n",
    "#\n",
    "#if(result == -1):\n",
    "#    print(\"Element is not present in array\")\n",
    "#else:\n",
    "#   print(\"Element is present at index\",result)\n"
   ]
  },
  {
   "cell_type": "code",
   "execution_count": 3,
   "metadata": {},
   "outputs": [
    {
     "name": "stdout",
     "output_type": "stream",
     "text": [
      "7\n",
      "5\n",
      "0\n",
      "23\n",
      "14\n",
      "12\n",
      "9\n",
      "12\n",
      "23\n"
     ]
    },
    {
     "data": {
      "text/plain": [
       "1"
      ]
     },
     "execution_count": 3,
     "metadata": {},
     "output_type": "execute_result"
    }
   ],
   "source": [
    "\n",
    "def main(arr,n,x):\n",
    "    for i in range(0,n):\n",
    "        if(arr[i]==x):\n",
    "            return 1\n",
    "    return -1\n",
    "\n",
    "n=int(input())\n",
    "arr=[]\n",
    "for i in range(n):\n",
    "   arr.append(int(input()))\n",
    "x = int(input())\n",
    "\n",
    "main(arr,n,x)\n",
    "\n"
   ]
  },
  {
   "cell_type": "code",
   "execution_count": 6,
   "metadata": {},
   "outputs": [
    {
     "name": "stdout",
     "output_type": "stream",
     "text": [
      "5\n",
      "12\n",
      "23\n",
      "45\n",
      "56\n",
      "78\n",
      "96\n",
      "-1\n"
     ]
    }
   ],
   "source": [
    "\n",
    "def main(arr,n,x):\n",
    "    for i in range(0,n):\n",
    "        if(arr[i]==x):\n",
    "            return True\n",
    "        #else:\n",
    "         #   return False\n",
    "    return False\n",
    "n=int(input())\n",
    "arr=[]\n",
    "for i in range(n):\n",
    "   arr.append(int(input()))\n",
    "x = int(input())\n",
    "\n",
    "#main(arr,n,x)\n",
    "if main(arr,n,x):\n",
    "    print(\"1\")\n",
    "else:\n",
    "    print(\"-1\")\n",
    "\n"
   ]
  },
  {
   "cell_type": "code",
   "execution_count": 5,
   "metadata": {},
   "outputs": [
    {
     "data": {
      "text/plain": [
       "True"
      ]
     },
     "execution_count": 5,
     "metadata": {},
     "output_type": "execute_result"
    }
   ],
   "source": [
    "main(arr,n,x)"
   ]
  },
  {
   "cell_type": "code",
   "execution_count": null,
   "metadata": {},
   "outputs": [],
   "source": []
  }
 ],
 "metadata": {
  "kernelspec": {
   "display_name": "Python 3",
   "language": "python",
   "name": "python3"
  },
  "language_info": {
   "codemirror_mode": {
    "name": "ipython",
    "version": 3
   },
   "file_extension": ".py",
   "mimetype": "text/x-python",
   "name": "python",
   "nbconvert_exporter": "python",
   "pygments_lexer": "ipython3",
   "version": "3.7.4"
  }
 },
 "nbformat": 4,
 "nbformat_minor": 2
}
