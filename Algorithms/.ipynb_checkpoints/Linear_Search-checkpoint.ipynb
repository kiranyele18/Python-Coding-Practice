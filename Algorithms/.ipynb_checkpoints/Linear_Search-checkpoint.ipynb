{
 "cells": [
  {
   "cell_type": "markdown",
   "metadata": {},
   "source": [
    "# Linear Search"
   ]
  },
  {
   "cell_type": "code",
   "execution_count": 6,
   "metadata": {},
   "outputs": [
    {
     "name": "stdout",
     "output_type": "stream",
     "text": [
      "Element is present at index 3\n"
     ]
    }
   ],
   "source": [
    "def linear_search(arr,n,x):\n",
    "    \n",
    "    for i in range(0,n):\n",
    "        if(arr[i]==x):\n",
    "            return i\n",
    "    return -1\n",
    "\n",
    "arr = [10,20,30,40,50,60]\n",
    "x = 40\n",
    "n = len(arr)\n",
    "\n",
    "result = linear_search(arr,n,x)\n",
    "if(result == -1):\n",
    "    print(\"Element is not present in array\")\n",
    "else:\n",
    "    print(\"Element is present at index\",result)"
   ]
  },
  {
   "cell_type": "code",
   "execution_count": null,
   "metadata": {},
   "outputs": [],
   "source": []
  },
  {
   "cell_type": "code",
   "execution_count": null,
   "metadata": {},
   "outputs": [],
   "source": []
  }
 ],
 "metadata": {
  "kernelspec": {
   "display_name": "Python 3",
   "language": "python",
   "name": "python3"
  },
  "language_info": {
   "codemirror_mode": {
    "name": "ipython",
    "version": 3
   },
   "file_extension": ".py",
   "mimetype": "text/x-python",
   "name": "python",
   "nbconvert_exporter": "python",
   "pygments_lexer": "ipython3",
   "version": "3.7.4"
  }
 },
 "nbformat": 4,
 "nbformat_minor": 2
}
