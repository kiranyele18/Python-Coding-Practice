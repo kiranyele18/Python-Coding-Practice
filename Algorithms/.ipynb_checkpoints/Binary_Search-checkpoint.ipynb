{
 "cells": [
  {
   "cell_type": "code",
   "execution_count": 5,
   "metadata": {},
   "outputs": [
    {
     "name": "stdout",
     "output_type": "stream",
     "text": [
      "Element present at index  3 \n"
     ]
    }
   ],
   "source": [
    "\n",
    "\n",
    "\n",
    "def binary_Search(arr,l,r,x):\n",
    "    #check base case\n",
    "    if r >= l:\n",
    "        mid = (l+r) // 2\n",
    "        \n",
    "        #If element is present at the middle itself\n",
    "        if arr[mid] == x:\n",
    "            return mid\n",
    "        \n",
    "        #If element is smaller than mid,then it can\n",
    "        #only be present in left subarray\n",
    "        elif arr[mid] > x:\n",
    "            return binary_Search(arr,l,mid-1,x)\n",
    "        \n",
    "        #Else the current can only be the\n",
    "        #present in right subarray\n",
    "        else:\n",
    "            return binary_Search(arr,mid+1,r,x)\n",
    "    else:\n",
    "        #Element is not presnt in the array\n",
    "        return -1\n",
    "            \n",
    "    \n",
    "#Driver Call\n",
    "arr = [10,20,30,50,60,80,90]\n",
    "x = 50\n",
    "\n",
    "result = binary_Search(arr,0,len(arr)-1,x)\n",
    "if result != -1:\n",
    "    print(\"Element present at index % d \"% result)\n",
    "else:\n",
    "    print(\"Element is not present in array.\")"
   ]
  },
  {
   "cell_type": "code",
   "execution_count": null,
   "metadata": {},
   "outputs": [],
   "source": []
  },
  {
   "cell_type": "markdown",
   "metadata": {},
   "source": [
    "# Recursive "
   ]
  },
  {
   "cell_type": "code",
   "execution_count": 7,
   "metadata": {},
   "outputs": [
    {
     "name": "stdout",
     "output_type": "stream",
     "text": [
      "Element present at index  6 \n"
     ]
    }
   ],
   "source": [
    "#import sys\n",
    "#sys.setrecursionlimit(10**6)\n",
    "def BinarySearchHelper(arr,x,l,r):\n",
    "    if r >= l:\n",
    "        mid = (r+l) // 2\n",
    "        \n",
    "        if arr[mid] == x:\n",
    "            return mid\n",
    "        elif arr[mid] > x:\n",
    "            return BinarySearchHelper(arr,x,l,mid-1)\n",
    "        else:\n",
    "            return BinarySearchHelper(arr,x,mid+1,r)\n",
    "    else:\n",
    "        return -1\n",
    "    \n",
    "    \n",
    "arr =[10,20,30,40,50,60,70,80,90,100]\n",
    "x = 70\n",
    "    \n",
    "result = BinarySearchHelper(arr,x,0,len(arr)-1)\n",
    "if result != -1:\n",
    "    print(\"Element present at index % d \"% result)\n",
    "else:\n",
    "    print(\"Element is not present in array.\")"
   ]
  },
  {
   "cell_type": "code",
   "execution_count": null,
   "metadata": {},
   "outputs": [],
   "source": []
  },
  {
   "cell_type": "code",
   "execution_count": null,
   "metadata": {},
   "outputs": [],
   "source": []
  },
  {
   "cell_type": "markdown",
   "metadata": {},
   "source": [
    "# Iterative\n"
   ]
  },
  {
   "cell_type": "code",
   "execution_count": 8,
   "metadata": {},
   "outputs": [
    {
     "name": "stdout",
     "output_type": "stream",
     "text": [
      "Element present at Index 6\n"
     ]
    }
   ],
   "source": [
    "def binarySearch(arr,x,l,r):\n",
    "    \n",
    "    while r >= l:\n",
    "        mid = (l+r)//2\n",
    "        \n",
    "        if arr[mid] == x:\n",
    "            return mid\n",
    "    \n",
    "        elif arr[mid] < x:\n",
    "            l = mid + 1\n",
    "        else:\n",
    "            r = mid - 1\n",
    "    else:\n",
    "        return -1\n",
    "    \n",
    "arr = [1,2,3,4,5,6,7,8,9,10]\n",
    "x = 7\n",
    "\n",
    "result = binarySearch(arr,x,0,len(arr)-1)\n",
    "\n",
    "if result != -1:\n",
    "    print(\"Element present at Index \"+str(result))\n",
    "else:\n",
    "    print(\"Element Not Present.\")"
   ]
  },
  {
   "cell_type": "code",
   "execution_count": null,
   "metadata": {},
   "outputs": [],
   "source": []
  },
  {
   "cell_type": "code",
   "execution_count": null,
   "metadata": {},
   "outputs": [],
   "source": []
  },
  {
   "cell_type": "code",
   "execution_count": 1,
   "metadata": {},
   "outputs": [],
   "source": [
    "def binarySearch(a, left, right, target):\n",
    "    if right < left: \n",
    "        return False\n",
    "    mid = (left + right)//2\n",
    "    if a[mid] == target: \n",
    "        return True \n",
    "    if a[mid] > target: \n",
    "        return binarySearch(a, left, mid-1, target)\n",
    "    else: \n",
    "        # a[mid] < target\n",
    "        return binarySearch(a, mid+1, right, target)\n",
    "    #This line is never reached"
   ]
  },
  {
   "cell_type": "code",
   "execution_count": 4,
   "metadata": {},
   "outputs": [
    {
     "data": {
      "text/plain": [
       "True"
      ]
     },
     "execution_count": 4,
     "metadata": {},
     "output_type": "execute_result"
    }
   ],
   "source": [
    "binarySearch([10,20,30,40,50,60],0,5,40)"
   ]
  },
  {
   "cell_type": "code",
   "execution_count": null,
   "metadata": {},
   "outputs": [],
   "source": []
  }
 ],
 "metadata": {
  "kernelspec": {
   "display_name": "Python 3",
   "language": "python",
   "name": "python3"
  },
  "language_info": {
   "codemirror_mode": {
    "name": "ipython",
    "version": 3
   },
   "file_extension": ".py",
   "mimetype": "text/x-python",
   "name": "python",
   "nbconvert_exporter": "python",
   "pygments_lexer": "ipython3",
   "version": "3.7.4"
  }
 },
 "nbformat": 4,
 "nbformat_minor": 2
}
