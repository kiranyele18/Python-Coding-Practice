{
 "cells": [
  {
   "cell_type": "code",
   "execution_count": 1,
   "metadata": {},
   "outputs": [
    {
     "name": "stdout",
     "output_type": "stream",
     "text": [
      "070707300\n"
     ]
    }
   ],
   "source": [
    "def h(e):\n",
    "    return e*3 +\"300\"\n",
    "print(h(\"07\"))"
   ]
  },
  {
   "cell_type": "code",
   "execution_count": 2,
   "metadata": {},
   "outputs": [
    {
     "name": "stdout",
     "output_type": "stream",
     "text": [
      "4000\n"
     ]
    }
   ],
   "source": [
    "def g(e):\n",
    "    return e + [e]\n",
    "print(g([\"40\", \"4000\", \"40\", \" \"])[1])"
   ]
  },
  {
   "cell_type": "code",
   "execution_count": 3,
   "metadata": {},
   "outputs": [
    {
     "name": "stdout",
     "output_type": "stream",
     "text": [
      "10.\n"
     ]
    }
   ],
   "source": [
    "def h(d):\n",
    "    return d + \".\"\n",
    "print(h(\"10\"))"
   ]
  },
  {
   "cell_type": "code",
   "execution_count": 4,
   "metadata": {},
   "outputs": [
    {
     "name": "stdout",
     "output_type": "stream",
     "text": [
      "horse4\n"
     ]
    }
   ],
   "source": [
    "z = [\",\", \",\", \"horse\"]\n",
    "v = 4\n",
    "z[-1] = z[-1] + str(v)\n",
    "print(z[2])"
   ]
  },
  {
   "cell_type": "code",
   "execution_count": 5,
   "metadata": {},
   "outputs": [
    {
     "name": "stdout",
     "output_type": "stream",
     "text": [
      ",\n",
      ",4\n"
     ]
    }
   ],
   "source": [
    "z = [\",\", \",\", \"horse\"]\n",
    "v = 4\n",
    "print(z[-2])\n",
    "z[-2] = z[-2] + str(v)\n",
    "print(z[-2])"
   ]
  },
  {
   "cell_type": "code",
   "execution_count": 6,
   "metadata": {},
   "outputs": [
    {
     "name": "stdout",
     "output_type": "stream",
     "text": [
      "10\n"
     ]
    }
   ],
   "source": [
    "b = 5\n",
    "c = [\"cat\", \".\", \"cow\", \",\"]\n",
    "b = b+b\n",
    "print(b)"
   ]
  },
  {
   "cell_type": "code",
   "execution_count": 7,
   "metadata": {},
   "outputs": [
    {
     "name": "stdout",
     "output_type": "stream",
     "text": [
      ".400\n"
     ]
    }
   ],
   "source": [
    "d = \"400\"\n",
    "b = [\"400\", \".\", \"30\", \"400\"]\n",
    "d = \".\" + b[0]\n",
    "print(d)\n"
   ]
  },
  {
   "cell_type": "code",
   "execution_count": 8,
   "metadata": {},
   "outputs": [
    {
     "name": "stdout",
     "output_type": "stream",
     "text": [
      "8\n"
     ]
    }
   ],
   "source": [
    "x = [8, 7, 2]\n",
    "y = \",\"\n",
    "x[-2] = x[-2]/x[1]\n",
    "print(x[0])"
   ]
  },
  {
   "cell_type": "code",
   "execution_count": 9,
   "metadata": {},
   "outputs": [
    {
     "name": "stdout",
     "output_type": "stream",
     "text": [
      ",\n"
     ]
    }
   ],
   "source": [
    "e = \"\"\n",
    "v = []\n",
    "e = \",\" + e\n",
    "print(e)"
   ]
  },
  {
   "cell_type": "code",
   "execution_count": 10,
   "metadata": {},
   "outputs": [
    {
     "name": "stdout",
     "output_type": "stream",
     "text": [
      "360\n"
     ]
    }
   ],
   "source": [
    "e = 3\n",
    "z = [\" \", \"60\", \" \"]\n",
    "print(str(e)+z[-2])\n"
   ]
  },
  {
   "cell_type": "code",
   "execution_count": 11,
   "metadata": {},
   "outputs": [
    {
     "name": "stdout",
     "output_type": "stream",
     "text": [
      "5\n"
     ]
    }
   ],
   "source": [
    "e = [5, 5]\n",
    "a = 2\n",
    "e[1] = a+e[0]\n",
    "print(e[-2])"
   ]
  },
  {
   "cell_type": "code",
   "execution_count": 12,
   "metadata": {},
   "outputs": [
    {
     "name": "stdout",
     "output_type": "stream",
     "text": [
      "3\n"
     ]
    }
   ],
   "source": [
    "z = 2\n",
    "a = [3, 6, 1, 0]\n",
    "a[-2] = z/len(a)\n",
    "print(a[0])"
   ]
  },
  {
   "cell_type": "code",
   "execution_count": 13,
   "metadata": {},
   "outputs": [
    {
     "name": "stdout",
     "output_type": "stream",
     "text": [
      "900\n"
     ]
    }
   ],
   "source": [
    "z = \"60\"\n",
    "val = [\"900\", \"60\", \"900\"]\n",
    "val[-2] = val[0]*3 + z\n",
    "print(val[0])"
   ]
  },
  {
   "cell_type": "code",
   "execution_count": 14,
   "metadata": {},
   "outputs": [
    {
     "name": "stdout",
     "output_type": "stream",
     "text": [
      ",  \n"
     ]
    }
   ],
   "source": [
    "v = [4, 7, 4]\n",
    "y = \" \"\n",
    "y = \",\" + y*2\n",
    "print(y)#this prints comma with double emptyspace"
   ]
  },
  {
   "cell_type": "code",
   "execution_count": 15,
   "metadata": {},
   "outputs": [
    {
     "name": "stdout",
     "output_type": "stream",
     "text": [
      ".catcatcat\n"
     ]
    }
   ],
   "source": [
    "e = []\n",
    "b = \"cat\"\n",
    "b = \".\" + b*3\n",
    "print(b)"
   ]
  },
  {
   "cell_type": "code",
   "execution_count": 16,
   "metadata": {},
   "outputs": [
    {
     "name": "stdout",
     "output_type": "stream",
     "text": [
      "3\n"
     ]
    }
   ],
   "source": [
    "x = \".\"\n",
    "b = [\",\", \" \", \" \"]\n",
    "b[-1] = b[0] + x\n",
    "print(len(b))"
   ]
  },
  {
   "cell_type": "code",
   "execution_count": 17,
   "metadata": {},
   "outputs": [
    {
     "name": "stdout",
     "output_type": "stream",
     "text": [
      "This print the lenght of variable b:  3\n",
      "1.0\n"
     ]
    }
   ],
   "source": [
    "b = \"cat\"\n",
    "print(\"This print the lenght of variable b: \",len(b))\n",
    "e = [7, 1, 2]\n",
    "e[0] = len(b)/len(b) #3/3=1\n",
    "print(e[0])"
   ]
  },
  {
   "cell_type": "code",
   "execution_count": 18,
   "metadata": {},
   "outputs": [
    {
     "name": "stdout",
     "output_type": "stream",
     "text": [
      "3.0\n"
     ]
    }
   ],
   "source": [
    "val = \"bat\"\n",
    "d = [5]\n",
    "d[-1] = len(val)/len(d)\n",
    "print(d[0])"
   ]
  },
  {
   "cell_type": "code",
   "execution_count": 19,
   "metadata": {},
   "outputs": [
    {
     "name": "stdout",
     "output_type": "stream",
     "text": [
      "7\n"
     ]
    }
   ],
   "source": [
    "x = 4\n",
    "v = [2, 7, 7, 7]\n",
    "v[0] = v[-1]/v[-1]\n",
    "print(v[2])"
   ]
  },
  {
   "cell_type": "code",
   "execution_count": 20,
   "metadata": {},
   "outputs": [
    {
     "name": "stdout",
     "output_type": "stream",
     "text": [
      ",,,\n"
     ]
    }
   ],
   "source": [
    "z = [\",\", \"500\"]\n",
    "v = \"500\"\n",
    "v = \",\" + z[-2]*2\n",
    "print(v)"
   ]
  },
  {
   "cell_type": "code",
   "execution_count": 21,
   "metadata": {},
   "outputs": [
    {
     "name": "stdout",
     "output_type": "stream",
     "text": [
      "0\n"
     ]
    }
   ],
   "source": [
    "y = 1\n",
    "x = []\n",
    "y = y*len(x)\n",
    "print(y)"
   ]
  },
  {
   "cell_type": "code",
   "execution_count": 22,
   "metadata": {},
   "outputs": [
    {
     "name": "stdout",
     "output_type": "stream",
     "text": [
      "cat,\n"
     ]
    }
   ],
   "source": [
    "e = []\n",
    "d = \",\"\n",
    "d = \"cat\" + d\n",
    "print(d)\n"
   ]
  },
  {
   "cell_type": "code",
   "execution_count": 23,
   "metadata": {},
   "outputs": [
    {
     "name": "stdout",
     "output_type": "stream",
     "text": [
      "600..\n"
     ]
    }
   ],
   "source": [
    "c = \"600\"\n",
    "d = [7, 1]\n",
    "c = c + \".\"*2\n",
    "print(c)"
   ]
  },
  {
   "cell_type": "code",
   "execution_count": 24,
   "metadata": {},
   "outputs": [
    {
     "name": "stdout",
     "output_type": "stream",
     "text": [
      "8\n"
     ]
    }
   ],
   "source": [
    "y = [4, 0]\n",
    "z = 4\n",
    "z = z+z\n",
    "print(z)"
   ]
  },
  {
   "cell_type": "code",
   "execution_count": 25,
   "metadata": {},
   "outputs": [
    {
     "name": "stdout",
     "output_type": "stream",
     "text": [
      "4\n"
     ]
    }
   ],
   "source": [
    "d = 3\n",
    "a = [4, 1, 3, 8]\n",
    "d = d+a[1]\n",
    "print(d)"
   ]
  },
  {
   "cell_type": "code",
   "execution_count": 26,
   "metadata": {},
   "outputs": [
    {
     "name": "stdout",
     "output_type": "stream",
     "text": [
      "1000\n"
     ]
    }
   ],
   "source": [
    "val = 5\n",
    "z = [\"500\", \"1000\", \",\"]\n",
    "z[0] = str(val) + z[1]\n",
    "print(z[1])"
   ]
  },
  {
   "cell_type": "code",
   "execution_count": 27,
   "metadata": {},
   "outputs": [
    {
     "name": "stdout",
     "output_type": "stream",
     "text": [
      "maryalice\n"
     ]
    }
   ],
   "source": [
    "c = \"mary\"\n",
    "d = [\"alice\", \"pat\", \" \", \",\"]\n",
    "d[-1] = c + d[0]\n",
    "print(d[-1])"
   ]
  },
  {
   "cell_type": "code",
   "execution_count": 28,
   "metadata": {},
   "outputs": [
    {
     "name": "stdout",
     "output_type": "stream",
     "text": [
      "4\n"
     ]
    }
   ],
   "source": [
    "b = 2\n",
    "e = [\"fox\", \",\"]\n",
    "b = b*b\n",
    "print(b)"
   ]
  },
  {
   "cell_type": "code",
   "execution_count": 29,
   "metadata": {},
   "outputs": [
    {
     "name": "stdout",
     "output_type": "stream",
     "text": [
      "2\n"
     ]
    }
   ],
   "source": [
    "v = \"alice\"\n",
    "y = [2, 1]\n",
    "y[-2] = len(v)+len(v)\n",
    "print(len(y))"
   ]
  },
  {
   "cell_type": "code",
   "execution_count": 30,
   "metadata": {},
   "outputs": [
    {
     "name": "stdout",
     "output_type": "stream",
     "text": [
      "1\n"
     ]
    }
   ],
   "source": [
    "val = \" \"\n",
    "z = [0]\n",
    "z[-1] = len(z)*len(z)\n",
    "print(z[-1])"
   ]
  },
  {
   "cell_type": "code",
   "execution_count": 31,
   "metadata": {},
   "outputs": [
    {
     "name": "stdout",
     "output_type": "stream",
     "text": [
      "pat\n"
     ]
    }
   ],
   "source": [
    "b = [2, 3, 5, 6]\n",
    "x = [\"bob\", \"pat\"]\n",
    "x[0] = \"bob\" + x[-1]\n",
    "print(x[1])"
   ]
  },
  {
   "cell_type": "code",
   "execution_count": 32,
   "metadata": {},
   "outputs": [
    {
     "name": "stdout",
     "output_type": "stream",
     "text": [
      "8\n"
     ]
    }
   ],
   "source": [
    "e = [4, 8]\n",
    "y = \" \"\n",
    "e[0] = e[-1]/len(y)\n",
    "print(e[1])"
   ]
  },
  {
   "cell_type": "code",
   "execution_count": 33,
   "metadata": {},
   "outputs": [
    {
     "name": "stdout",
     "output_type": "stream",
     "text": [
      "dogdogdog\n"
     ]
    }
   ],
   "source": [
    "z = \"dog\"\n",
    "y = [\"cow\", \".\", \" \"]\n",
    "z = \"dog\"*2 + z\n",
    "print(z)"
   ]
  },
  {
   "cell_type": "code",
   "execution_count": 34,
   "metadata": {},
   "outputs": [
    {
     "name": "stdout",
     "output_type": "stream",
     "text": [
      "4\n"
     ]
    }
   ],
   "source": [
    "z = [3, 7, 3, 2]\n",
    "b = []\n",
    "z[-2] = len(z)*z[0]\n",
    "print(len(z))"
   ]
  },
  {
   "cell_type": "code",
   "execution_count": 35,
   "metadata": {},
   "outputs": [
    {
     "name": "stdout",
     "output_type": "stream",
     "text": [
      "1\n"
     ]
    }
   ],
   "source": [
    "e = -2\n",
    "x = [\"20\", \"2000\", \".\"]\n",
    "y = \",\"\n",
    "x.sort()\n",
    "for counter in range(e, e+3):\n",
    "\te = 0**3\n",
    "\tif \"a\" in x[-1]:\n",
    "\t\tif x[-2] != y:\n",
    "\t\t\tv = [len(y)] + [4]\n",
    "\t\t\td = 0**3\n",
    "\t\t\tv.sort()\n",
    "\t\telse:\n",
    "\t\t\tc = \"20\" + x[0].upper()\n",
    "\t\t\ta = [\"600\", str(e)[3:2:-1]*2]\n",
    "\t\t\ta.reverse()\n",
    "\t\te = counter/2\n",
    "\telse:\n",
    "\t\ty += \"20\" + str(e)\n",
    "\t\tif y.isdigit():\n",
    "\t\t\tx.append(\"500\")\n",
    "\t\telse:\n",
    "\t\t\te = len(y)%3\n",
    "x.reverse()\n",
    "print(e)"
   ]
  },
  {
   "cell_type": "code",
   "execution_count": null,
   "metadata": {},
   "outputs": [],
   "source": [
    "z = [4, 2, 7, 6]\n",
    "a = -1\n",
    "d = [2, 4]\n",
    "d.reverse()\n",
    "for item in z:\n",
    "\tz.insert(-2, a)\n",
    "\twhile a >= item:\n",
    "\t\ty = [\",\"] + [\"mary\", str(item)*2]*2\n",
    "\t\tval = str(a)[0] + \"bob\"\n",
    "\t\tif item == d[0]:\n",
    "\t\t\te = val.upper() + \"joe\"\n",
    "\t\t\tx = [item] + z\n",
    "\t\t\te = val.upper() + \" \"\n",
    "\t\tval = \".\" + val[-1]\n",
    "z.append(4)\n",
    "print(z[-4])"
   ]
  },
  {
   "cell_type": "code",
   "execution_count": null,
   "metadata": {},
   "outputs": [],
   "source": []
  }
 ],
 "metadata": {
  "kernelspec": {
   "display_name": "Python 3",
   "language": "python",
   "name": "python3"
  },
  "language_info": {
   "codemirror_mode": {
    "name": "ipython",
    "version": 3
   },
   "file_extension": ".py",
   "mimetype": "text/x-python",
   "name": "python",
   "nbconvert_exporter": "python",
   "pygments_lexer": "ipython3",
   "version": "3.7.4"
  }
 },
 "nbformat": 4,
 "nbformat_minor": 2
}
