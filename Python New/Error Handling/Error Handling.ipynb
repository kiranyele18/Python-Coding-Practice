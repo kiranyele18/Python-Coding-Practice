{
 "cells": [
  {
   "cell_type": "code",
   "execution_count": 1,
   "metadata": {},
   "outputs": [],
   "source": [
    "def add(n1,n2):\n",
    "    print(n1+n2)"
   ]
  },
  {
   "cell_type": "code",
   "execution_count": 2,
   "metadata": {},
   "outputs": [
    {
     "name": "stdout",
     "output_type": "stream",
     "text": [
      "30\n"
     ]
    }
   ],
   "source": [
    "add(10,20)"
   ]
  },
  {
   "cell_type": "code",
   "execution_count": 3,
   "metadata": {},
   "outputs": [
    {
     "name": "stdout",
     "output_type": "stream",
     "text": [
      "Hey it looks like you aren't adding correctly!\n"
     ]
    }
   ],
   "source": [
    "#by using error keywords try,except and finally\n",
    "\n",
    "try:\n",
    "    result = 10 + '10'\n",
    "    \n",
    "except:\n",
    "    print(\"Hey it looks like you aren't adding correctly!\")"
   ]
  },
  {
   "cell_type": "code",
   "execution_count": 4,
   "metadata": {},
   "outputs": [],
   "source": [
    "#by using error keywords try,except and finally\n",
    "\n",
    "try:\n",
    "    result = 10 + 10\n",
    "    \n",
    "except:\n",
    "    print(\"Hey it looks like you aren't adding correctly!\")"
   ]
  },
  {
   "cell_type": "code",
   "execution_count": 5,
   "metadata": {},
   "outputs": [
    {
     "data": {
      "text/plain": [
       "20"
      ]
     },
     "execution_count": 5,
     "metadata": {},
     "output_type": "execute_result"
    }
   ],
   "source": [
    "result"
   ]
  },
  {
   "cell_type": "code",
   "execution_count": 6,
   "metadata": {},
   "outputs": [
    {
     "name": "stdout",
     "output_type": "stream",
     "text": [
      "Add went well\n",
      "20\n"
     ]
    }
   ],
   "source": [
    "try:\n",
    "    result = 10 + 10\n",
    "except:\n",
    "    print(\"Hey it looks like you aren't adding correctly!\")\n",
    "else:\n",
    "    print(\"Add went well\")\n",
    "    print(result)"
   ]
  },
  {
   "cell_type": "code",
   "execution_count": 7,
   "metadata": {},
   "outputs": [
    {
     "name": "stdout",
     "output_type": "stream",
     "text": [
      "Hey it looks like you aren't adding correctly!\n"
     ]
    }
   ],
   "source": [
    "try:\n",
    "    result = 10 + '10'\n",
    "except:\n",
    "    print(\"Hey it looks like you aren't adding correctly!\")\n",
    "else:\n",
    "    print(\"Add went well\")\n",
    "    print(result)"
   ]
  },
  {
   "cell_type": "code",
   "execution_count": null,
   "metadata": {},
   "outputs": [],
   "source": []
  },
  {
   "cell_type": "code",
   "execution_count": null,
   "metadata": {},
   "outputs": [],
   "source": []
  },
  {
   "cell_type": "code",
   "execution_count": null,
   "metadata": {},
   "outputs": [],
   "source": []
  },
  {
   "cell_type": "code",
   "execution_count": null,
   "metadata": {},
   "outputs": [],
   "source": []
  },
  {
   "cell_type": "code",
   "execution_count": 8,
   "metadata": {},
   "outputs": [
    {
     "name": "stdout",
     "output_type": "stream",
     "text": [
      "I always run\n"
     ]
    }
   ],
   "source": [
    "try:\n",
    "    f =open('testfile','w')\n",
    "    f.write(\"Write a test line\")\n",
    "except TypeError:\n",
    "    print(\"These was a type error!\")\n",
    "except OSError:\n",
    "    print('Hey you have an OS Error')\n",
    "finally:\n",
    "    print(\"I always run\")"
   ]
  },
  {
   "cell_type": "code",
   "execution_count": 9,
   "metadata": {},
   "outputs": [
    {
     "name": "stdout",
     "output_type": "stream",
     "text": [
      "Hey you have an OS error!\n",
      "I always run!!!\n"
     ]
    }
   ],
   "source": [
    "try : \n",
    "    f = open('testfile1','r')\n",
    "    f.read(\"Write a test line\")\n",
    "except TypeError:\n",
    "    print(\"These was a error!\")\n",
    "except OSError:\n",
    "    print(\"Hey you have an OS error!\")\n",
    "finally:\n",
    "    print(\"I always run!!!\")"
   ]
  },
  {
   "cell_type": "code",
   "execution_count": null,
   "metadata": {},
   "outputs": [],
   "source": []
  },
  {
   "cell_type": "code",
   "execution_count": null,
   "metadata": {},
   "outputs": [],
   "source": []
  },
  {
   "cell_type": "code",
   "execution_count": 13,
   "metadata": {},
   "outputs": [],
   "source": [
    "def ask_for_int():\n",
    "    try:\n",
    "        result = int(input(\"Enter the number: \"))\n",
    "    except:\n",
    "        print(\"Whoops that is not a number\")\n",
    "    finally:\n",
    "        print(\"End of try/except/finally\")"
   ]
  },
  {
   "cell_type": "code",
   "execution_count": 14,
   "metadata": {},
   "outputs": [
    {
     "name": "stdout",
     "output_type": "stream",
     "text": [
      "Enter the number: 20\n",
      "End of try/except/finally\n"
     ]
    }
   ],
   "source": [
    "ask_for_int()\n"
   ]
  },
  {
   "cell_type": "code",
   "execution_count": 15,
   "metadata": {},
   "outputs": [
    {
     "name": "stdout",
     "output_type": "stream",
     "text": [
      "Enter the number: word\n",
      "Whoops that is not a number\n",
      "End of try/except/finally\n"
     ]
    }
   ],
   "source": [
    "ask_for_int()"
   ]
  },
  {
   "cell_type": "code",
   "execution_count": 5,
   "metadata": {},
   "outputs": [],
   "source": [
    "def ask_for_inr():\n",
    "    while True:\n",
    "        \n",
    "        try:\n",
    "            result = int(input(\"Please provide a number: \"))\n",
    "        except:\n",
    "            print(\"Whoops that is not anumber\")\n",
    "            continue\n",
    "        else:\n",
    "            print(\"Yes Thank you\")\n",
    "            break\n",
    "        finally:\n",
    "            print(\"End of try/except/finally\")\n",
    "            print(\"I always run at the end.\")"
   ]
  },
  {
   "cell_type": "code",
   "execution_count": 6,
   "metadata": {},
   "outputs": [
    {
     "name": "stdout",
     "output_type": "stream",
     "text": [
      "Please provide a number: word\n",
      "Whoops that is not anumber\n",
      "End of try/except/finally\n",
      "I always run at the end.\n",
      "Please provide a number: 23\n",
      "Yes Thank you\n",
      "End of try/except/finally\n",
      "I always run at the end.\n"
     ]
    }
   ],
   "source": [
    "ask_for_inr()"
   ]
  },
  {
   "cell_type": "code",
   "execution_count": 7,
   "metadata": {},
   "outputs": [
    {
     "name": "stdout",
     "output_type": "stream",
     "text": [
      "Please provide a number: 56\n",
      "Yes Thank you\n",
      "End of try/except/finally\n",
      "I always run at the end.\n"
     ]
    }
   ],
   "source": [
    "ask_for_inr()"
   ]
  },
  {
   "cell_type": "code",
   "execution_count": null,
   "metadata": {},
   "outputs": [],
   "source": []
  }
 ],
 "metadata": {
  "kernelspec": {
   "display_name": "Python 3",
   "language": "python",
   "name": "python3"
  },
  "language_info": {
   "codemirror_mode": {
    "name": "ipython",
    "version": 3
   },
   "file_extension": ".py",
   "mimetype": "text/x-python",
   "name": "python",
   "nbconvert_exporter": "python",
   "pygments_lexer": "ipython3",
   "version": "3.7.4"
  }
 },
 "nbformat": 4,
 "nbformat_minor": 2
}
