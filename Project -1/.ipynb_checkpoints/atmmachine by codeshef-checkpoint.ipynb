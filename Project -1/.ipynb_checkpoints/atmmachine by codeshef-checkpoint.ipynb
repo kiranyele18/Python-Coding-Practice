{
 "cells": [
  {
   "cell_type": "code",
   "execution_count": 35,
   "metadata": {},
   "outputs": [
    {
     "ename": "IndentationError",
     "evalue": "expected an indented block (<ipython-input-35-a86158055501>, line 8)",
     "output_type": "error",
     "traceback": [
      "\u001b[1;36m  File \u001b[1;32m\"<ipython-input-35-a86158055501>\"\u001b[1;36m, line \u001b[1;32m8\u001b[0m\n\u001b[1;33m    return fbal - 0.50\u001b[0m\n\u001b[1;37m         ^\u001b[0m\n\u001b[1;31mIndentationError\u001b[0m\u001b[1;31m:\u001b[0m expected an indented block\n"
     ]
    }
   ],
   "source": [
    "def atmmachine():\n",
    "    inibal = 120\n",
    "    avaibal = 0 \n",
    "    \n",
    "    withdrawamt = int(input('Enter amount to be withdraw : '))\n",
    "    if withdrawamt / 5 == True:\n",
    "        fbal = inibal - withdrawamt\n",
    "        if withdrawamt < inibal :\n",
    "        return fbal - 0.50\n",
    "    elif withdrawamt > inibal:\n",
    "        return inibal\n",
    "    else:\n",
    "        pass\n",
    "    \n",
    "    \n",
    "    \n",
    "    \n",
    "        \n",
    "    \n",
    "        "
   ]
  },
  {
   "cell_type": "code",
   "execution_count": 32,
   "metadata": {},
   "outputs": [
    {
     "name": "stdout",
     "output_type": "stream",
     "text": [
      "Enter amount to be withdraw : 42\n"
     ]
    },
    {
     "data": {
      "text/plain": [
       "77.5"
      ]
     },
     "execution_count": 32,
     "metadata": {},
     "output_type": "execute_result"
    }
   ],
   "source": [
    "atmmachine()\n"
   ]
  },
  {
   "cell_type": "code",
   "execution_count": null,
   "metadata": {},
   "outputs": [],
   "source": []
  }
 ],
 "metadata": {
  "kernelspec": {
   "display_name": "Python 3",
   "language": "python",
   "name": "python3"
  },
  "language_info": {
   "codemirror_mode": {
    "name": "ipython",
    "version": 3
   },
   "file_extension": ".py",
   "mimetype": "text/x-python",
   "name": "python",
   "nbconvert_exporter": "python",
   "pygments_lexer": "ipython3",
   "version": "3.7.4"
  }
 },
 "nbformat": 4,
 "nbformat_minor": 2
}
